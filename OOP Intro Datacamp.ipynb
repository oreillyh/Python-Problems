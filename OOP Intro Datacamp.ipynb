{
 "cells": [
  {
   "cell_type": "code",
   "execution_count": 12,
   "metadata": {},
   "outputs": [
    {
     "name": "stdout",
     "output_type": "stream",
     "text": [
      "Arse1\n",
      "Arse2\n",
      "Arse3\n"
     ]
    }
   ],
   "source": [
    "class PrintList:\n",
    "    \n",
    "    def __init__(self, numberlist):\n",
    "        self.numberlist = numberlist\n",
    "        \n",
    "    def print_list(self):\n",
    "        for item in self.numberlist:\n",
    "            print(f\"Arse{item}\")\n",
    "\n",
    "A = PrintList([1,2,3])\n",
    "A.print_list()\n",
    "\n",
    "        \n"
   ]
  },
  {
   "cell_type": "code",
   "execution_count": null,
   "metadata": {},
   "outputs": [],
   "source": []
  },
  {
   "cell_type": "code",
   "execution_count": null,
   "metadata": {},
   "outputs": [],
   "source": []
  }
 ],
 "metadata": {
  "kernelspec": {
   "display_name": "Python 3",
   "language": "python",
   "name": "python3"
  },
  "language_info": {
   "codemirror_mode": {
    "name": "ipython",
    "version": 3
   },
   "file_extension": ".py",
   "mimetype": "text/x-python",
   "name": "python",
   "nbconvert_exporter": "python",
   "pygments_lexer": "ipython3",
   "version": "3.6.6"
  }
 },
 "nbformat": 4,
 "nbformat_minor": 2
}
