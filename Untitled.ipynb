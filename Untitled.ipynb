{
 "cells": [
  {
   "cell_type": "code",
   "execution_count": 1,
   "metadata": {},
   "outputs": [],
   "source": [
    "data_size = [100, 250, 500, 750, 1000, 1250, 1500, 1750, 2000, 2250, 2500,3750, 5000, 6250,  7500, 8750, 10000]"
   ]
  },
  {
   "cell_type": "code",
   "execution_count": 2,
   "metadata": {},
   "outputs": [],
   "source": [
    "#random numbers\n",
    "from random import randint\n",
    "def random_array(n):\n",
    "    array = []\n",
    "    for i in range (0, 100, 1): #between 0 and 100\n",
    "        array.append(randint(0,100))# 100 random integers\n",
    "    return array\n",
    "\n",
    "#write main function to call all sorts\n",
    "#def(main)\n",
    "    #for r in len(range(data_size))"
   ]
  },
  {
   "cell_type": "code",
   "execution_count": 3,
   "metadata": {},
   "outputs": [
    {
     "name": "stdout",
     "output_type": "stream",
     "text": [
      "[0, 2, 3, 3, 4, 4, 4, 5, 5, 7, 7, 7, 7, 8, 9, 11, 13, 13, 14, 14, 15, 15, 16, 17, 18, 19, 20, 21, 23, 24, 25, 27, 28, 28, 28, 28, 31, 31, 34, 34, 35, 36, 36, 37, 40, 40, 42, 42, 43, 44, 44, 45, 45, 47, 53, 54, 54, 55, 56, 59, 60, 62, 63, 65, 65, 67, 67, 68, 68, 71, 72, 72, 74, 74, 74, 75, 77, 78, 79, 81, 83, 85, 85, 86, 87, 88, 89, 90, 90, 91, 91, 93, 93, 95, 95, 98, 98, 99, 100, 100]\n"
     ]
    }
   ],
   "source": [
    "def insertion_Sort(alist):\n",
    "    for i in range(1,len(alist)): #for each element in thr list to be sorted\n",
    "        #element to be compared\n",
    "        current = alist[i] \n",
    "        #comparing the current element with the sorted portion and swapping\n",
    "        while i>0 and alist[i-1]>current: #compare each element with the previous one\n",
    "            alist[i] = alist[i-1]\n",
    "            i = i-1\n",
    "            alist[i] = current #swap replaced element with current one\n",
    "    return alist\n",
    "print(insertion_Sort(random_array(1)))"
   ]
  },
  {
   "cell_type": "code",
   "execution_count": null,
   "metadata": {},
   "outputs": [],
   "source": []
  }
 ],
 "metadata": {
  "kernelspec": {
   "display_name": "Python 3",
   "language": "python",
   "name": "python3"
  },
  "language_info": {
   "codemirror_mode": {
    "name": "ipython",
    "version": 3
   },
   "file_extension": ".py",
   "mimetype": "text/x-python",
   "name": "python",
   "nbconvert_exporter": "python",
   "pygments_lexer": "ipython3",
   "version": "3.6.6"
  }
 },
 "nbformat": 4,
 "nbformat_minor": 2
}
