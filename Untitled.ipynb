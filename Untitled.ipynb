{
 "cells": [
  {
   "cell_type": "code",
   "execution_count": 1,
   "metadata": {},
   "outputs": [],
   "source": [
    "data_size = [100, 250, 500, 750, 1000, 1250, 1500, 1750, 2000, 2250, 2500,3750, 5000, 6250,  7500, 8750, 10000]"
   ]
  },
  {
   "cell_type": "code",
   "execution_count": 2,
   "metadata": {},
   "outputs": [],
   "source": [
    "#random numbers\n",
    "from random import randint\n",
    "def random_array(n):\n",
    "    array = []\n",
    "    for i in range (0, 100, 1): #between 0 and 100\n",
    "        array.append(randint(0,100))# 100 random integers\n",
    "    return array\n",
    "\n",
    "#write main function to call all sorts\n",
    "#def(main)\n",
    "    #for r in len(range(data_size))"
   ]
  },
  {
   "cell_type": "code",
   "execution_count": 4,
   "metadata": {},
   "outputs": [
    {
     "name": "stdout",
     "output_type": "stream",
     "text": [
      "[1, 1, 2, 3, 3, 4, 5, 7, 10, 11, 12, 13, 14, 14, 16, 18, 18, 18, 19, 19, 20, 20, 22, 23, 25, 26, 27, 27, 28, 29, 30, 33, 34, 34, 36, 36, 37, 38, 43, 43, 44, 46, 47, 48, 49, 49, 50, 52, 54, 54, 54, 54, 54, 55, 55, 56, 57, 57, 58, 59, 61, 62, 63, 63, 67, 67, 67, 69, 69, 69, 70, 72, 73, 73, 76, 76, 77, 79, 79, 80, 80, 82, 83, 83, 84, 85, 85, 86, 88, 90, 91, 92, 95, 95, 95, 95, 95, 96, 97, 98]\n"
     ]
    }
   ],
   "source": [
    "def insertion_Sort(alist):\n",
    "    for i in range(1,len(alist)): #for each element in thr list to be sorted\n",
    "        #element to be compared\n",
    "        current = alist[i] \n",
    "        #comparing the current element with the sorted portion and swapping\n",
    "        while i>0 and alist[i-1]>current: #compare each element with the previous one\n",
    "            alist[i] = alist[i-1]\n",
    "            i = i-1\n",
    "            alist[i] = current #swap replaced element with current one\n",
    "    return alist\n",
    "print(insertion_Sort(random_array(1)))"
   ]
  },
  {
   "cell_type": "code",
   "execution_count": null,
   "metadata": {},
   "outputs": [],
   "source": []
  }
 ],
 "metadata": {
  "kernelspec": {
   "display_name": "Python 3",
   "language": "python",
   "name": "python3"
  },
  "language_info": {
   "codemirror_mode": {
    "name": "ipython",
    "version": 3
   },
   "file_extension": ".py",
   "mimetype": "text/x-python",
   "name": "python",
   "nbconvert_exporter": "python",
   "pygments_lexer": "ipython3",
   "version": "3.6.6"
  }
 },
 "nbformat": 4,
 "nbformat_minor": 2
}
