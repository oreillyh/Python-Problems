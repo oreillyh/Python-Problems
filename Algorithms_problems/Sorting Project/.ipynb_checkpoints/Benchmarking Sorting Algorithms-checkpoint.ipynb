{
 "cells": [
  {
   "cell_type": "markdown",
   "metadata": {
    "collapsed": true
   },
   "source": [
    "# Introduction\n"
   ]
  },
  {
   "cell_type": "markdown",
   "metadata": {
    "collapsed": true
   },
   "source": [
    "#Introduce the concept of sorting and sorting algorithms, discuss the\n",
    "relevance of concepts such as complexity (time and space), performance, in-place sorting,\n",
    "stable sorting, comparator functions, comparison-based and non-comparison-based sorts,\n",
    "etc."
   ]
  },
  {
   "cell_type": "markdown",
   "metadata": {},
   "source": [
    "Sorting algorithms vary greatly in their performance. This benchmarking project is to find out which algorithms will perform the best. \n",
    "n"
   ]
  },
  {
   "cell_type": "markdown",
   "metadata": {},
   "source": [
    "# Sorting Algorithms\n",
    "\n",
    "Introduce each of your chosen algorithms in turn,\n",
    "discuss their space and time complexity, and explain how each algorithm works using your\n",
    "own diagrams and different example input instances."
   ]
  },
  {
   "cell_type": "markdown",
   "metadata": {},
   "source": [
    "## 1. Bubble Sort (A simple comparison-based sort)\n",
    "\n",
    "Bubble sort is a simple sorting algorithm.  https://en.wikipedia.org/wiki/Bubble_sort\n",
    "\n",
    "How it works:\n",
    "1. It starts at the beginning of the dataset and compares the first two elements and if the first is greater it will swap them. \n",
    "2. It will continue doing this until no swaps are needed.\n",
    "\n",
    "#### Performance\n",
    "Bubble sort has a worst-case and average complexity of О(n2), where n is the number of items being sorted. \n",
    "When the list is already sorted (best-case), the complexity of bubble sort is only O(n). \n",
    "In the case of a large dataset, Bubble sort should be avoided. It is not very practical or efficient and rarely used in the real world.\n",
    "\n",
    "Bubble sort in action https://www.youtube.com/watch?v=lyZQPjUT5B4&feature=youtu.be\n",
    "\n",
    "#insert a diagram"
   ]
  },
  {
   "cell_type": "code",
   "execution_count": 1,
   "metadata": {},
   "outputs": [
    {
     "name": "stdout",
     "output_type": "stream",
     "text": [
      "[17, 20, 26, 31, 44, 54, 55, 77, 93]\n"
     ]
    }
   ],
   "source": [
    "# code sourced from http://interactivepython.org/runestone/static/pythonds/SortSearch/TheBubbleSort.html\n",
    "\n",
    "def bubbleSort(alist):\n",
    "    for passnum in range(len(alist)-1,0,-1):\n",
    "        for i in range(passnum):\n",
    "            if alist[i]>alist[i+1]:\n",
    "                temp = alist[i]\n",
    "                alist[i] = alist[i+1]\n",
    "                alist[i+1] = temp\n",
    "\n",
    "alist = [54,26,93,17,77,31,44,55,20]\n",
    "\n",
    "bubbleSort(alist)\n",
    "\n",
    "print(alist)"
   ]
  },
  {
   "cell_type": "code",
   "execution_count": 2,
   "metadata": {},
   "outputs": [
    {
     "name": "stdout",
     "output_type": "stream",
     "text": [
      "None\n",
      "None alist time:  0.0\n"
     ]
    }
   ],
   "source": [
    "# import time module\n",
    "import time\n",
    "# start timer\n",
    "start_time = time.time()\n",
    "\n",
    "# bubble sort function, use the numbers from alist\n",
    "def bubbleSort(alist):\n",
    "    for passnum in range(len(alist)-1,0,-1):\n",
    "        for i in range(passnum):\n",
    "            if alist[i]>alist[i+1]:\n",
    "                temp = alist[i]\n",
    "                alist[i] = alist[i+1]\n",
    "                alist[i+1] = temp\n",
    "\n",
    "print(bubbleSort(alist))\n",
    "#print(bubbleSort(alist1))\n",
    "\n",
    "\n",
    "# end timer\n",
    "end_time = time.time()\n",
    "# calculate time\n",
    "time_elapsed= end_time - start_time\n",
    "print(bubbleSort(alist), \"alist time: \", time_elapsed)\n"
   ]
  },
  {
   "cell_type": "markdown",
   "metadata": {},
   "source": [
    "## 2. Merge Sort (An efficient comparison-based sort)\n",
    "\n",
    "Merge sort is a recursive divide and conquer algorithm that was invented by John von Neumann in 1945.(https://en.wikipedia.org/wiki/Merge_sort)\n",
    "\n",
    "How it works:\n",
    "1. It starts by breaking down the list into sublists until each sublists contains just one element. \n",
    "2. Repeatedly merging the sublists to produce new sorted sublists until there is only one sublist remaining.\n",
    "\n",
    "#### Performance\n",
    "In sorting n objects, merge sort has an average and worst-case performance of O(n log n). It's best, worst and average cases are very similar, making it a good choice for predictable running behaviour. (source from lecture notes)\n",
    "\n",
    "Merge sort in action:\n",
    "https://www.youtube.com/watch?v=XaqR3G_NVoo\n",
    "\n",
    "\n",
    "An efficient sorting algorithm??\n",
    "\n",
    "### insert a diagram"
   ]
  },
  {
   "cell_type": "code",
   "execution_count": 3,
   "metadata": {},
   "outputs": [
    {
     "name": "stdout",
     "output_type": "stream",
     "text": [
      "[17, 20, 26, 31, 44, 54, 55, 77, 93]\n"
     ]
    }
   ],
   "source": [
    "# code sourced from http://interactivepython.org/runestone/static/pythonds/SortSearch/TheMergeSort.html\n",
    "\n",
    "def mergeSort(alist):\n",
    "    #print(\"Splitting \",alist)\n",
    "    if len(alist)>1:\n",
    "        mid = len(alist)//2\n",
    "        lefthalf = alist[:mid]\n",
    "        righthalf = alist[mid:]\n",
    "\n",
    "        mergeSort(lefthalf)\n",
    "        mergeSort(righthalf)\n",
    "\n",
    "        i=0\n",
    "        j=0\n",
    "        k=0\n",
    "        while i < len(lefthalf) and j < len(righthalf):\n",
    "            if lefthalf[i] < righthalf[j]:\n",
    "                alist[k]=lefthalf[i]\n",
    "                i=i+1\n",
    "            else:\n",
    "                alist[k]=righthalf[j]\n",
    "                j=j+1\n",
    "            k=k+1\n",
    "\n",
    "        while i < len(lefthalf):\n",
    "            alist[k]=lefthalf[i]\n",
    "            i=i+1\n",
    "            k=k+1\n",
    "\n",
    "        while j < len(righthalf):\n",
    "            alist[k]=righthalf[j]\n",
    "            j=j+1\n",
    "            k=k+1\n",
    "    #print(\"Merging \",alist)\n",
    "\n",
    "alist = [54,26,93,17,77,31,44,55,20]\n",
    "mergeSort(alist)\n",
    "print(alist)"
   ]
  },
  {
   "cell_type": "markdown",
   "metadata": {},
   "source": [
    "## 3. Counting Sort (A non-comparison sort)"
   ]
  },
  {
   "cell_type": "code",
   "execution_count": 4,
   "metadata": {},
   "outputs": [
    {
     "name": "stdout",
     "output_type": "stream",
     "text": [
      "[17, 20, 26, 31, 44, 54, 55, 77, 93]\n"
     ]
    }
   ],
   "source": [
    "# code sourced http://www.learntosolveit.com/python/algorithm_countingsort.html\n",
    "def counting_sort(array, maxval):\n",
    "    \"\"\"in-place counting sort\"\"\"\n",
    "    n = len(array)\n",
    "    m = maxval + 1\n",
    "    count = [0] * m               # init with zeros\n",
    "    for a in array:\n",
    "        count[a] += 1             # count occurences\n",
    "    i = 0\n",
    "    for a in range(m):            # emit\n",
    "        for c in range(count[a]): # - emit 'count[a]' copies of 'a'\n",
    "            array[i] = a\n",
    "            i += 1\n",
    "    return array\n",
    "\n",
    "print(counting_sort( alist, 93 ))"
   ]
  },
  {
   "cell_type": "markdown",
   "metadata": {},
   "source": [
    "## 4. Quick Sort\n",
    "\n",
    "Quicksort was developed by British computer scientist Tony Hoare in 1959. It is a recursive divide and conquer algorithm. Due to it's efficiency, it is still a commonly used algorithm for sorting.(https://en.wikipedia.org/wiki/Quicksort)\n",
    "\n",
    "How it works (lecture notes referenced):\n",
    "1. Pivot selection: Pick an element, called a “pivot” from the array\n",
    "2. Partioning: reorder the array elements with values < the pivot come beofre it, which all elements the values ≥ than the pivot come after it. After this partioining, the pivot is in its final position.\n",
    "3. Recursion: apply steps 1 and 2 above recursively to each of the two subarrays\n",
    "\n",
    "#### Performance"
   ]
  },
  {
   "cell_type": "code",
   "execution_count": 5,
   "metadata": {},
   "outputs": [
    {
     "name": "stdout",
     "output_type": "stream",
     "text": [
      "[17, 20, 26, 31, 44, 54, 55, 77, 93]\n"
     ]
    }
   ],
   "source": [
    "# http://interactivepython.org/runestone/static/pythonds/SortSearch/TheQuickSort.html\n",
    "\n",
    "def quickSort(alist):\n",
    "   quickSortHelper(alist,0,len(alist)-1)\n",
    "\n",
    "def quickSortHelper(alist,first,last):\n",
    "   if first<last:\n",
    "\n",
    "       splitpoint = partition(alist,first,last)\n",
    "\n",
    "       quickSortHelper(alist,first,splitpoint-1)\n",
    "       quickSortHelper(alist,splitpoint+1,last)\n",
    "\n",
    "\n",
    "def partition(alist,first,last):\n",
    "   pivotvalue = alist[first]\n",
    "\n",
    "   leftmark = first+1\n",
    "   rightmark = last\n",
    "\n",
    "   done = False\n",
    "   while not done:\n",
    "\n",
    "       while leftmark <= rightmark and alist[leftmark] <= pivotvalue:\n",
    "           leftmark = leftmark + 1\n",
    "\n",
    "       while alist[rightmark] >= pivotvalue and rightmark >= leftmark:\n",
    "           rightmark = rightmark -1\n",
    "\n",
    "       if rightmark < leftmark:\n",
    "           done = True\n",
    "       else:\n",
    "           temp = alist[leftmark]\n",
    "           alist[leftmark] = alist[rightmark]\n",
    "           alist[rightmark] = temp\n",
    "\n",
    "   temp = alist[first]\n",
    "   alist[first] = alist[rightmark]\n",
    "   alist[rightmark] = temp\n",
    "\n",
    "\n",
    "   return rightmark\n",
    "\n",
    "# alist = [54,26,93,17,77,31,44,55,20]\n",
    "quickSort(alist)\n",
    "print(alist)\n"
   ]
  },
  {
   "cell_type": "markdown",
   "metadata": {
    "collapsed": true
   },
   "source": [
    "## 5. Insertion Sort"
   ]
  },
  {
   "cell_type": "code",
   "execution_count": 6,
   "metadata": {},
   "outputs": [
    {
     "name": "stdout",
     "output_type": "stream",
     "text": [
      "[17, 20, 26, 31, 44, 54, 55, 77, 93]\n"
     ]
    }
   ],
   "source": [
    "def insertionSort(alist):\n",
    "   for index in range(1,len(alist)):\n",
    "\n",
    "     currentvalue = alist[index]\n",
    "     position = index\n",
    "\n",
    "     while position>0 and alist[position-1]>currentvalue:\n",
    "         alist[position]=alist[position-1]\n",
    "         position = position-1\n",
    "\n",
    "     alist[position]=currentvalue\n",
    "\n",
    "alist = [54,26,93,17,77,31,44,55,20]\n",
    "insertionSort(alist)\n",
    "print(alist)"
   ]
  },
  {
   "cell_type": "markdown",
   "metadata": {},
   "source": [
    "# Implementation & Benchmarking"
   ]
  },
  {
   "cell_type": "markdown",
   "metadata": {},
   "source": [
    "For this section, a function will be definied to call each sorting function defined above\n",
    "1. Bubble Sort\n",
    "2. Merge Sort\n",
    "3. Counting Sort\n",
    "4. Quick Sort\n",
    "5. Insertion Sort\n",
    "\n",
    "Firstly, arrays are generated with random numbers using randint from the python's random library (https://docs.python.org/2/library/random.html). These will be used to test the speed of efficiency of the algorithms."
   ]
  },
  {
   "cell_type": "code",
   "execution_count": 8,
   "metadata": {},
   "outputs": [],
   "source": [
    "# Creating an array using randint\n",
    "from random import *\n",
    "\n",
    "# creating a random array, function takes in n numbers\n",
    "def random_array(n):\n",
    "    # create an array variable\n",
    "    array = []\n",
    "    # if n = 5, 0,1,2,3,4\n",
    "    for i in range(0,n, 1):\n",
    "        # add to the array random integers between 0 and 100\n",
    "        array.append(randint(0,100))\n",
    "    return array\n",
    "\n",
    "\n",
    "# assign the random array to alist\n",
    "alist = random_array(100)\n",
    "alist1 = random_array(1000)\n",
    "alist2 = random_array(10000)"
   ]
  },
  {
   "cell_type": "markdown",
   "metadata": {},
   "source": [
    "Using the time module (https://docs.python.org/3/library/time.html), a start time and end time for each function will be noted and the elapsed time is what will be noted.\n",
    "Above a random arrays were defined. They will be used to test the performance of the "
   ]
  },
  {
   "cell_type": "code",
   "execution_count": 9,
   "metadata": {},
   "outputs": [
    {
     "name": "stdout",
     "output_type": "stream",
     "text": [
      "None Bubble Sort:  0.0\n",
      "None Bubble Sort:  0.06786251068115234\n",
      "None Bubble Sort:  6.720200538635254\n",
      "None Merge Sort:  0.0009984970092773438\n",
      "None Merge Sort:  0.0029909610748291016\n",
      "None Merge Sort:  0.03607177734375\n",
      "Counting sort:  0.0\n",
      "Counting sort:  0.0\n",
      "Counting sort:  0.0029900074005126953\n",
      "Quick sort:  0.001032114028930664\n",
      "Quick sort:  0.003977298736572266\n",
      "Quick sort:  0.08376240730285645\n",
      "Insertion sort:  0.0\n",
      "Insertion sort:  0.0\n",
      "Insertion sort:  0.0009968280792236328\n"
     ]
    }
   ],
   "source": [
    "# import time module\n",
    "import time\n",
    "\n",
    "# function to call sort functions and time each individually\n",
    "def callsorts():\n",
    "    # start timer\n",
    "    start_time = time.time()\n",
    "######## bubblesort\n",
    "    bubbleSort(alist)\n",
    "    end_time = time.time()\n",
    "    time_elapsed= end_time - start_time\n",
    "    print(bubbleSort(alist), \"Bubble Sort: \", time_elapsed)\n",
    "   \n",
    "    # start timer\n",
    "    start_time = time.time()\n",
    "    bubbleSort(alist1)\n",
    "    end_time = time.time()\n",
    "    time_elapsed= end_time - start_time\n",
    "    print(bubbleSort(alist1), \"Bubble Sort: \", time_elapsed)\n",
    "    \n",
    "    \n",
    "    # start timer\n",
    "    start_time = time.time()\n",
    "    bubbleSort(alist2)\n",
    "    end_time = time.time()\n",
    "    time_elapsed= end_time - start_time\n",
    "    print(bubbleSort(alist2), \"Bubble Sort: \", time_elapsed)\n",
    "    \n",
    "##### Merge Sort\n",
    "    #start timer\n",
    "    start_time = time.time()\n",
    "    mergeSort(alist)\n",
    "    end_time = time.time()\n",
    "    time_elapsed= end_time - start_time\n",
    "    print(mergeSort(alist), \"Merge Sort: \", time_elapsed)\n",
    "    \n",
    "    # start timer\n",
    "    start_time = time.time()\n",
    "    mergeSort(alist1)\n",
    "    end_time = time.time()\n",
    "    time_elapsed= end_time - start_time\n",
    "    print(mergeSort(alist1), \"Merge Sort: \", time_elapsed)\n",
    "   \n",
    "    # start timer\n",
    "    start_time = time.time()\n",
    "    mergeSort(alist2)\n",
    "    end_time = time.time()\n",
    "    time_elapsed= end_time - start_time\n",
    "    print(mergeSort(alist2), \"Merge Sort: \", time_elapsed)\n",
    "\n",
    "##### counting_sort\n",
    "    start_time = time.time()\n",
    "    counting_sort(alist, 100)\n",
    "    end_time = time.time()\n",
    "    time_elapsed= end_time - start_time\n",
    "    print(\"Counting sort: \", time_elapsed)\n",
    "    \n",
    "    # start timer\n",
    "    start_time = time.time()\n",
    "    counting_sort(alist1, 1000)\n",
    "    end_time = time.time()\n",
    "    time_elapsed= end_time - start_time\n",
    "    print(\"Counting sort: \", time_elapsed)\n",
    "   \n",
    "    # start timer\n",
    "    start_time = time.time()\n",
    "    counting_sort(alist2, 10000)\n",
    "    end_time = time.time()\n",
    "    time_elapsed= end_time - start_time\n",
    "    print(\"Counting sort: \", time_elapsed)\n",
    "    \n",
    "##### quick sort\n",
    "    start_time = time.time()\n",
    "    quickSort(alist)\n",
    "    end_time = time.time()\n",
    "    time_elapsed= end_time - start_time\n",
    "    print(\"Quick sort: \", time_elapsed)\n",
    "    \n",
    "    # start timer\n",
    "    start_time = time.time()\n",
    "    quickSort(alist1)\n",
    "    end_time = time.time()\n",
    "    time_elapsed= end_time - start_time\n",
    "    print(\"Quick sort: \", time_elapsed)\n",
    "   \n",
    "    # start timer\n",
    "    start_time = time.time()\n",
    "    quickSort(alist2)\n",
    "    end_time = time.time()\n",
    "    time_elapsed= end_time - start_time\n",
    "    print(\"Quick sort: \", time_elapsed)\n",
    "    \n",
    "##### insertionSort\n",
    "    start_time = time.time()\n",
    "    insertionSort(alist)\n",
    "    end_time = time.time()\n",
    "    time_elapsed= end_time - start_time\n",
    "    print(\"Insertion sort: \", time_elapsed)\n",
    "    \n",
    "    # start timer\n",
    "    start_time = time.time()\n",
    "    insertionSort(alist1)\n",
    "    end_time = time.time()\n",
    "    time_elapsed= end_time - start_time\n",
    "    print(\"Insertion sort: \", time_elapsed)\n",
    "   \n",
    "    # start timer\n",
    "    start_time = time.time()\n",
    "    insertionSort(alist2)\n",
    "    end_time = time.time()\n",
    "    time_elapsed= end_time - start_time\n",
    "    print(\"Insertion sort: \", time_elapsed)\n",
    "    \n",
    "callsorts()"
   ]
  },
  {
   "cell_type": "code",
   "execution_count": 10,
   "metadata": {},
   "outputs": [
    {
     "name": "stdout",
     "output_type": "stream",
     "text": [
      "None Bubble Sort:  0.0009958744049072266\n",
      "None Bubble Sort:  0.035904645919799805\n",
      "None Bubble Sort:  3.6004979610443115\n",
      "None Merge Sort:  0.0\n"
     ]
    },
    {
     "ename": "ValueError",
     "evalue": "cannot insert 100, already exists",
     "output_type": "error",
     "traceback": [
      "\u001b[1;31m---------------------------------------------------------------------------\u001b[0m",
      "\u001b[1;31mValueError\u001b[0m                                Traceback (most recent call last)",
      "\u001b[1;32m<ipython-input-10-e005c726b319>\u001b[0m in \u001b[0;36m<module>\u001b[1;34m()\u001b[0m\n\u001b[0;32m    118\u001b[0m     \u001b[0mprint\u001b[0m\u001b[1;33m(\u001b[0m\u001b[1;34m\"Insertion sort: \"\u001b[0m\u001b[1;33m,\u001b[0m \u001b[0mtime_elapsed\u001b[0m\u001b[1;33m)\u001b[0m\u001b[1;33m\u001b[0m\u001b[0m\n\u001b[0;32m    119\u001b[0m \u001b[1;33m\u001b[0m\u001b[0m\n\u001b[1;32m--> 120\u001b[1;33m \u001b[0mcallsorts\u001b[0m\u001b[1;33m(\u001b[0m\u001b[1;33m)\u001b[0m\u001b[1;33m\u001b[0m\u001b[0m\n\u001b[0m\u001b[0;32m    121\u001b[0m \u001b[1;33m\u001b[0m\u001b[0m\n\u001b[0;32m    122\u001b[0m \u001b[0mdf\u001b[0m\u001b[1;33m\u001b[0m\u001b[0m\n",
      "\u001b[1;32m<ipython-input-10-e005c726b319>\u001b[0m in \u001b[0;36mcallsorts\u001b[1;34m()\u001b[0m\n\u001b[0;32m     39\u001b[0m     \u001b[0mtime_elapsed\u001b[0m\u001b[1;33m=\u001b[0m \u001b[0mend_time\u001b[0m \u001b[1;33m-\u001b[0m \u001b[0mstart_time\u001b[0m\u001b[1;33m\u001b[0m\u001b[0m\n\u001b[0;32m     40\u001b[0m     \u001b[0mprint\u001b[0m\u001b[1;33m(\u001b[0m\u001b[0mmergeSort\u001b[0m\u001b[1;33m(\u001b[0m\u001b[0malist\u001b[0m\u001b[1;33m)\u001b[0m\u001b[1;33m,\u001b[0m \u001b[1;34m\"Merge Sort: \"\u001b[0m\u001b[1;33m,\u001b[0m \u001b[0mtime_elapsed\u001b[0m\u001b[1;33m)\u001b[0m\u001b[1;33m\u001b[0m\u001b[0m\n\u001b[1;32m---> 41\u001b[1;33m     \u001b[0mdf\u001b[0m\u001b[1;33m.\u001b[0m\u001b[0minsert\u001b[0m\u001b[1;33m(\u001b[0m\u001b[1;36m1\u001b[0m\u001b[1;33m,\u001b[0m\u001b[1;34m'100'\u001b[0m\u001b[1;33m,\u001b[0m \u001b[0mtime_elapsed\u001b[0m\u001b[1;33m)\u001b[0m\u001b[1;33m\u001b[0m\u001b[0m\n\u001b[0m\u001b[0;32m     42\u001b[0m \u001b[1;33m\u001b[0m\u001b[0m\n\u001b[0;32m     43\u001b[0m     \u001b[1;31m# start timer\u001b[0m\u001b[1;33m\u001b[0m\u001b[1;33m\u001b[0m\u001b[0m\n",
      "\u001b[1;32m~\\Anaconda3\\lib\\site-packages\\pandas\\core\\frame.py\u001b[0m in \u001b[0;36minsert\u001b[1;34m(self, loc, column, value, allow_duplicates)\u001b[0m\n\u001b[0;32m   3220\u001b[0m         \u001b[0mvalue\u001b[0m \u001b[1;33m=\u001b[0m \u001b[0mself\u001b[0m\u001b[1;33m.\u001b[0m\u001b[0m_sanitize_column\u001b[0m\u001b[1;33m(\u001b[0m\u001b[0mcolumn\u001b[0m\u001b[1;33m,\u001b[0m \u001b[0mvalue\u001b[0m\u001b[1;33m,\u001b[0m \u001b[0mbroadcast\u001b[0m\u001b[1;33m=\u001b[0m\u001b[1;32mFalse\u001b[0m\u001b[1;33m)\u001b[0m\u001b[1;33m\u001b[0m\u001b[0m\n\u001b[0;32m   3221\u001b[0m         self._data.insert(loc, column, value,\n\u001b[1;32m-> 3222\u001b[1;33m                           allow_duplicates=allow_duplicates)\n\u001b[0m\u001b[0;32m   3223\u001b[0m \u001b[1;33m\u001b[0m\u001b[0m\n\u001b[0;32m   3224\u001b[0m     \u001b[1;32mdef\u001b[0m \u001b[0massign\u001b[0m\u001b[1;33m(\u001b[0m\u001b[0mself\u001b[0m\u001b[1;33m,\u001b[0m \u001b[1;33m**\u001b[0m\u001b[0mkwargs\u001b[0m\u001b[1;33m)\u001b[0m\u001b[1;33m:\u001b[0m\u001b[1;33m\u001b[0m\u001b[0m\n",
      "\u001b[1;32m~\\Anaconda3\\lib\\site-packages\\pandas\\core\\internals.py\u001b[0m in \u001b[0;36minsert\u001b[1;34m(self, loc, item, value, allow_duplicates)\u001b[0m\n\u001b[0;32m   4336\u001b[0m         \u001b[1;32mif\u001b[0m \u001b[1;32mnot\u001b[0m \u001b[0mallow_duplicates\u001b[0m \u001b[1;32mand\u001b[0m \u001b[0mitem\u001b[0m \u001b[1;32min\u001b[0m \u001b[0mself\u001b[0m\u001b[1;33m.\u001b[0m\u001b[0mitems\u001b[0m\u001b[1;33m:\u001b[0m\u001b[1;33m\u001b[0m\u001b[0m\n\u001b[0;32m   4337\u001b[0m             \u001b[1;31m# Should this be a different kind of error??\u001b[0m\u001b[1;33m\u001b[0m\u001b[1;33m\u001b[0m\u001b[0m\n\u001b[1;32m-> 4338\u001b[1;33m             \u001b[1;32mraise\u001b[0m \u001b[0mValueError\u001b[0m\u001b[1;33m(\u001b[0m\u001b[1;34m'cannot insert {}, already exists'\u001b[0m\u001b[1;33m.\u001b[0m\u001b[0mformat\u001b[0m\u001b[1;33m(\u001b[0m\u001b[0mitem\u001b[0m\u001b[1;33m)\u001b[0m\u001b[1;33m)\u001b[0m\u001b[1;33m\u001b[0m\u001b[0m\n\u001b[0m\u001b[0;32m   4339\u001b[0m \u001b[1;33m\u001b[0m\u001b[0m\n\u001b[0;32m   4340\u001b[0m         \u001b[1;32mif\u001b[0m \u001b[1;32mnot\u001b[0m \u001b[0misinstance\u001b[0m\u001b[1;33m(\u001b[0m\u001b[0mloc\u001b[0m\u001b[1;33m,\u001b[0m \u001b[0mint\u001b[0m\u001b[1;33m)\u001b[0m\u001b[1;33m:\u001b[0m\u001b[1;33m\u001b[0m\u001b[0m\n",
      "\u001b[1;31mValueError\u001b[0m: cannot insert 100, already exists"
     ]
    }
   ],
   "source": [
    "# import time module\n",
    "import time\n",
    "import pandas as pd\n",
    "import numpy as np\n",
    "\n",
    "df = pd.DataFrame(index = ['Bubble Sort', 'Merge Sort', 'Counting sort', 'Quick sort', 'Insertion sort'])\n",
    "\n",
    "# function to call sort functions and time each individually\n",
    "def callsorts():\n",
    "    # start timer\n",
    "    start_time = time.time()\n",
    "######## bubblesort\n",
    "    bubbleSort(alist)\n",
    "    end_time = time.time()\n",
    "    time_elapsed= end_time - start_time\n",
    "    print(bubbleSort(alist), \"Bubble Sort: \", time_elapsed)\n",
    "    df.insert(0,'100', time_elapsed)\n",
    "   \n",
    "    # start timer\n",
    "    start_time = time.time()\n",
    "    bubbleSort(alist1)\n",
    "    end_time = time.time()\n",
    "    time_elapsed= end_time - start_time\n",
    "    print(bubbleSort(alist1), \"Bubble Sort: \", time_elapsed)\n",
    "    \n",
    "    \n",
    "    # start timer\n",
    "    start_time = time.time()\n",
    "    bubbleSort(alist2)\n",
    "    end_time = time.time()\n",
    "    time_elapsed= end_time - start_time\n",
    "    print(bubbleSort(alist2), \"Bubble Sort: \", time_elapsed)\n",
    "    \n",
    "##### Merge Sort\n",
    "    #start timer\n",
    "    start_time = time.time()\n",
    "    mergeSort(alist)\n",
    "    end_time = time.time()\n",
    "    time_elapsed= end_time - start_time\n",
    "    print(mergeSort(alist), \"Merge Sort: \", time_elapsed)\n",
    "    df.insert(1,'100', time_elapsed)\n",
    "    \n",
    "    # start timer\n",
    "    start_time = time.time()\n",
    "    mergeSort(alist1)\n",
    "    end_time = time.time()\n",
    "    time_elapsed= end_time - start_time\n",
    "    print(mergeSort(alist1), \"Merge Sort: \", time_elapsed)\n",
    "   \n",
    "    # start timer\n",
    "    start_time = time.time()\n",
    "    mergeSort(alist2)\n",
    "    end_time = time.time()\n",
    "    time_elapsed= end_time - start_time\n",
    "    print(mergeSort(alist2), \"Merge Sort: \", time_elapsed)\n",
    "\n",
    "##### counting_sort\n",
    "    start_time = time.time()\n",
    "    counting_sort(alist, 100)\n",
    "    end_time = time.time()\n",
    "    time_elapsed= end_time - start_time\n",
    "    print(\"Counting sort: \", time_elapsed)\n",
    "    \n",
    "    # start timer\n",
    "    start_time = time.time()\n",
    "    counting_sort(alist1, 1000)\n",
    "    end_time = time.time()\n",
    "    time_elapsed= end_time - start_time\n",
    "    print(\"Counting sort: \", time_elapsed)\n",
    "   \n",
    "    # start timer\n",
    "    start_time = time.time()\n",
    "    counting_sort(alist2, 10000)\n",
    "    end_time = time.time()\n",
    "    time_elapsed= end_time - start_time\n",
    "    print(\"Counting sort: \", time_elapsed)\n",
    "    \n",
    "##### quick sort\n",
    "    start_time = time.time()\n",
    "    quickSort(alist)\n",
    "    end_time = time.time()\n",
    "    time_elapsed= end_time - start_time\n",
    "    print(\"Quick sort: \", time_elapsed)\n",
    "    \n",
    "    # start timer\n",
    "    start_time = time.time()\n",
    "    quickSort(alist1)\n",
    "    end_time = time.time()\n",
    "    time_elapsed= end_time - start_time\n",
    "    print(\"Quick sort: \", time_elapsed)\n",
    "   \n",
    "    # start timer\n",
    "    start_time = time.time()\n",
    "    quickSort(alist2)\n",
    "    end_time = time.time()\n",
    "    time_elapsed= end_time - start_time\n",
    "    print(\"Quick sort: \", time_elapsed)\n",
    "    \n",
    "##### insertionSort\n",
    "    start_time = time.time()\n",
    "    insertionSort(alist)\n",
    "    end_time = time.time()\n",
    "    time_elapsed= end_time - start_time\n",
    "    print(\"Insertion sort: \", time_elapsed)\n",
    "    \n",
    "    # start timer\n",
    "    start_time = time.time()\n",
    "    insertionSort(alist1)\n",
    "    end_time = time.time()\n",
    "    time_elapsed= end_time - start_time\n",
    "    print(\"Insertion sort: \", time_elapsed)\n",
    "   \n",
    "    # start timer\n",
    "    start_time = time.time()\n",
    "    insertionSort(alist2)\n",
    "    end_time = time.time()\n",
    "    time_elapsed= end_time - start_time\n",
    "    print(\"Insertion sort: \", time_elapsed)\n",
    "    \n",
    "callsorts()\n",
    "\n",
    "df"
   ]
  },
  {
   "cell_type": "code",
   "execution_count": 40,
   "metadata": {},
   "outputs": [
    {
     "data": {
      "text/html": [
       "<div>\n",
       "<style scoped>\n",
       "    .dataframe tbody tr th:only-of-type {\n",
       "        vertical-align: middle;\n",
       "    }\n",
       "\n",
       "    .dataframe tbody tr th {\n",
       "        vertical-align: top;\n",
       "    }\n",
       "\n",
       "    .dataframe thead th {\n",
       "        text-align: right;\n",
       "    }\n",
       "</style>\n",
       "<table border=\"1\" class=\"dataframe\">\n",
       "  <thead>\n",
       "    <tr style=\"text-align: right;\">\n",
       "      <th></th>\n",
       "      <th>100</th>\n",
       "      <th>2</th>\n",
       "    </tr>\n",
       "  </thead>\n",
       "  <tbody>\n",
       "    <tr>\n",
       "      <th>Bubble Sort</th>\n",
       "      <td>0.000466</td>\n",
       "      <td>2</td>\n",
       "    </tr>\n",
       "    <tr>\n",
       "      <th>Merge Sort</th>\n",
       "      <td>0.000466</td>\n",
       "      <td>2</td>\n",
       "    </tr>\n",
       "    <tr>\n",
       "      <th>Counting sort</th>\n",
       "      <td>0.000466</td>\n",
       "      <td>2</td>\n",
       "    </tr>\n",
       "    <tr>\n",
       "      <th>Quick sort</th>\n",
       "      <td>0.000466</td>\n",
       "      <td>2</td>\n",
       "    </tr>\n",
       "    <tr>\n",
       "      <th>Insertion sort</th>\n",
       "      <td>0.000466</td>\n",
       "      <td>2</td>\n",
       "    </tr>\n",
       "  </tbody>\n",
       "</table>\n",
       "</div>"
      ],
      "text/plain": [
       "                     100  2\n",
       "Bubble Sort     0.000466  2\n",
       "Merge Sort      0.000466  2\n",
       "Counting sort   0.000466  2\n",
       "Quick sort      0.000466  2\n",
       "Insertion sort  0.000466  2"
      ]
     },
     "execution_count": 40,
     "metadata": {},
     "output_type": "execute_result"
    }
   ],
   "source": [
    "df[2]=2\n",
    "df"
   ]
  },
  {
   "cell_type": "code",
   "execution_count": 29,
   "metadata": {},
   "outputs": [
    {
     "name": "stdout",
     "output_type": "stream",
     "text": [
      "Size \t 100\n",
      "--- \t -----\n",
      "Bubble Sort \t None BubbleSort:  0.0005598068237304688\n"
     ]
    }
   ],
   "source": [
    "print(\"Size\", '\\t', \"100\")     #table column headings\n",
    "print(\"---\", '\\t', \"-----\")\n",
    "\n",
    "       # generate values for columns\n",
    "print(\"Bubble Sort\", '\\t', bubbleSort(alist2), \"BubbleSort: \", time_elapsed)\n"
   ]
  },
  {
   "cell_type": "code",
   "execution_count": null,
   "metadata": {
    "collapsed": true
   },
   "outputs": [],
   "source": []
  }
 ],
 "metadata": {
  "kernelspec": {
   "display_name": "Python 3",
   "language": "python",
   "name": "python3"
  },
  "language_info": {
   "codemirror_mode": {
    "name": "ipython",
    "version": 3
   },
   "file_extension": ".py",
   "mimetype": "text/x-python",
   "name": "python",
   "nbconvert_exporter": "python",
   "pygments_lexer": "ipython3",
   "version": "3.6.6"
  }
 },
 "nbformat": 4,
 "nbformat_minor": 2
}
