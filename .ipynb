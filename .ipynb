{
 "cells": [
  {
   "cell_type": "markdown",
   "metadata": {},
   "source": [
    "## CREATE A LIST OF ARRAY SIZES"
   ]
  },
  {
   "cell_type": "code",
   "execution_count": 3,
   "metadata": {},
   "outputs": [],
   "source": [
    "ARRAY SIZE = [100, 250, 500, 750, 1000, 1250, 1500, 1750, 2000, 2250, 2500,3750, 5000, 6250,  7500, 8750, 10000]"
   ]
  },
  {
   "cell_type": "markdown",
   "metadata": {},
   "source": [
    "## CREATE A RANDOM ARRAY"
   ]
  },
  {
   "cell_type": "code",
   "execution_count": 25,
   "metadata": {},
   "outputs": [],
   "source": [
    "#Genarate random numbers\n",
    "from random import randint\n",
    "def random_array(n):\n",
    "    array = []\n",
    "    for i in range (0, 100, 1): #between 0 and 100\n",
    "        array.append(randint(0,100))# 100 random integers\n",
    "    return array"
   ]
  },
  {
   "cell_type": "markdown",
   "metadata": {},
   "source": [
    "## BUBBLE SORT"
   ]
  },
  {
   "cell_type": "code",
   "execution_count": 27,
   "metadata": {},
   "outputs": [
    {
     "ename": "NameError",
     "evalue": "name 'array' is not defined",
     "output_type": "error",
     "traceback": [
      "\u001b[1;31m---------------------------------------------------------------------------\u001b[0m",
      "\u001b[1;31mNameError\u001b[0m                                 Traceback (most recent call last)",
      "\u001b[1;32m<ipython-input-27-5ce0d5a732fb>\u001b[0m in \u001b[0;36m<module>\u001b[1;34m()\u001b[0m\n\u001b[0;32m     17\u001b[0m                 \u001b[0marr\u001b[0m\u001b[1;33m[\u001b[0m\u001b[0mj\u001b[0m\u001b[1;33m]\u001b[0m\u001b[1;33m,\u001b[0m \u001b[0marr\u001b[0m\u001b[1;33m[\u001b[0m\u001b[0mj\u001b[0m\u001b[1;33m+\u001b[0m\u001b[1;36m1\u001b[0m\u001b[1;33m]\u001b[0m \u001b[1;33m=\u001b[0m \u001b[0marr\u001b[0m\u001b[1;33m[\u001b[0m\u001b[0mj\u001b[0m\u001b[1;33m+\u001b[0m\u001b[1;36m1\u001b[0m\u001b[1;33m]\u001b[0m\u001b[1;33m,\u001b[0m \u001b[0marr\u001b[0m\u001b[1;33m[\u001b[0m\u001b[0mj\u001b[0m\u001b[1;33m]\u001b[0m\u001b[1;33m\u001b[0m\u001b[0m\n\u001b[0;32m     18\u001b[0m \u001b[1;33m\u001b[0m\u001b[0m\n\u001b[1;32m---> 19\u001b[1;33m \u001b[0mBubble_Sort\u001b[0m\u001b[1;33m(\u001b[0m\u001b[0marray\u001b[0m\u001b[1;33m)\u001b[0m\u001b[1;33m\u001b[0m\u001b[0m\n\u001b[0m\u001b[0;32m     20\u001b[0m \u001b[1;33m\u001b[0m\u001b[0m\n\u001b[0;32m     21\u001b[0m \u001b[0mprint\u001b[0m \u001b[1;33m(\u001b[0m\u001b[1;34m\"Sorted array is:\"\u001b[0m\u001b[1;33m)\u001b[0m\u001b[1;33m\u001b[0m\u001b[0m\n",
      "\u001b[1;31mNameError\u001b[0m: name 'array' is not defined"
     ]
    }
   ],
   "source": [
    "# Credit https://www.geeksforgeeks.org/bubble-sort/\n",
    "# Python program for implementation of Bubble Sort \n",
    "\n",
    "def Bubble_Sort(array): #bubble sort function\n",
    "    n = len(arr) #assign n = to length of the array\n",
    "  \n",
    "    # Iterate through all array elements \n",
    "    for i in range(n): \n",
    "  \n",
    "    # Last i elements are already in place \n",
    "        for j in range(0, n-i-1): \n",
    "  \n",
    "        # iterate through the array from 0 to n-i-1 \n",
    "        # Swap if the element found is greater \n",
    "        # than the next element \n",
    "            if arr[j] > arr[j+1] : \n",
    "                arr[j], arr[j+1] = arr[j+1], arr[j] \n",
    "  \n",
    "Bubble_Sort(arr) \n",
    "  \n",
    "print (\"Sorted array is:\") \n",
    "for i in range(len(arr)): \n",
    "    print (\"%d\" %arr[i]), "
   ]
  },
  {
   "cell_type": "markdown",
   "metadata": {},
   "source": [
    "## BUCKET SORT"
   ]
  },
  {
   "cell_type": "code",
   "execution_count": 6,
   "metadata": {},
   "outputs": [
    {
     "name": "stdout",
     "output_type": "stream",
     "text": [
      "Sorted Array is\n",
      "[0.1234, 0.3434, 0.565, 0.656, 0.665, 0.897]\n"
     ]
    }
   ],
   "source": [
    "#Credit https://www.geeksforgeeks.org/bucket-sort-2/\n",
    "# Python3 program to sort an array  \n",
    "# using bucket sort  \n",
    "def Insertion_Sort(b): #function to create an insertion - needed to sort data once its in buckets\n",
    "    for i in range(1, len(b)): #iterate through all the data\n",
    "        up = b[i] \n",
    "        j = i - 1\n",
    "        while j >=0 and b[j] > up:\n",
    "            b[j + 1] = b[j] \n",
    "            j -= 1\n",
    "        b[j + 1] = up     \n",
    "    return b      \n",
    "              \n",
    "def Bucket_Sort(x): #create buckets\n",
    "    arr = [] #empty array\n",
    "    slot_num = 10 # 10 means 10 slots, each \n",
    "                  # slot's size is 0.1 \n",
    "    for i in range(slot_num): #for each slot number\n",
    "        arr.append([]) #append slot numbers to the array\n",
    "          \n",
    "    # Put array elements in different buckets  \n",
    "    for j in x: \n",
    "        index_b = int(slot_num * j)  \n",
    "        arr[index_b].append(j) \n",
    "      \n",
    "    # Sort individual buckets  using the insertion sort created earlier\n",
    "    for i in range(slot_num): \n",
    "        arr[i] = Insertion_Sort(arr[i]) \n",
    "          \n",
    "    # concatenate the result \n",
    "    k = 0\n",
    "    for i in range(slot_num): #for each sorted bucket, add them together\n",
    "        for j in range(len(arr[i])): \n",
    "            x[k] = arr[i][j] \n",
    "            k += 1\n",
    "    return x \n",
    "  \n",
    "# Driver Code \n",
    "x = [0.897, 0.565, 0.656, \n",
    "     0.1234, 0.665, 0.3434]  \n",
    "print(\"Sorted Array is\") \n",
    "print(Bucket_Sort(x)) \n",
    "\n",
    "# This code is contributed by \n",
    "# Oneil Hsiao "
   ]
  },
  {
   "cell_type": "markdown",
   "metadata": {},
   "source": [
    "## COUNTING SORT"
   ]
  },
  {
   "cell_type": "code",
   "execution_count": 7,
   "metadata": {},
   "outputs": [
    {
     "name": "stdout",
     "output_type": "stream",
     "text": [
      "[1, 1, 1, 2, 2, 2, 2, 3, 3, 4, 7]\n"
     ]
    }
   ],
   "source": [
    "# Credit https://www.w3resource.com/python-exercises/data-structures-and-algorithms/python-search-and-sorting-exercise-10.php\n",
    "def Counting_Sort(array1, max_val): # function for counting sort, takes an array and a max value\n",
    "    m = max_val + 1 #assigns m as max value +1: needed to create index for count sub-array 'count'\n",
    "    count = [0] * m  #sub array to hold the counts for each element of the array              \n",
    "    \n",
    "    for a in array1: #loop which iterates through each item in the array\n",
    "    \n",
    "        count[a] += 1 # count occurences of each element             \n",
    "    i = 0\n",
    "    for a in range(m): #Outer sorting loop to iterate through count sub-array           \n",
    "        for c in range(count[a]):  #inner sorting loop which iterates through the counts of each element\n",
    "            array1[i] = a #sorts elements by swapping count items\n",
    "            i += 1 #increases position of count item to be sorted \n",
    "    return array1\n",
    "\n",
    "print(Counting_Sort( [1, 2, 7, 3, 2, 1, 4, 2, 3, 2, 1], 7 ))"
   ]
  },
  {
   "cell_type": "markdown",
   "metadata": {},
   "source": [
    "## MERGE SORT"
   ]
  },
  {
   "cell_type": "code",
   "execution_count": 8,
   "metadata": {},
   "outputs": [
    {
     "name": "stdout",
     "output_type": "stream",
     "text": [
      "Given array is\n",
      "12 11 13 5 6 7 \n",
      "Sorted array is: \n",
      "5 6 7 11 12 13 \n"
     ]
    }
   ],
   "source": [
    "#Credit This code is contributed by Mayank Khanna @ https://www.geeksforgeeks.org/merge-sort/\n",
    "# Python program for implementation of MergeSort \n",
    "def Merge_Sort(arr): \n",
    "    if len(arr) >1: #Checks for positive integers in the array\n",
    "        mid = len(arr)//2 #Divides the array in two\n",
    "        L = arr[:mid] # assigns L as left hand side sub array\n",
    "        R = arr[mid:] # assigns R as right hand side sub array\n",
    "  \n",
    "        Merge_Sort(L) # Sorts the Left hand side\n",
    "        Merge_Sort(R) # Sorts the right hand side\n",
    "  \n",
    "        i = j = k = 0 #sets all indices to 0\n",
    "          \n",
    "        # Copy data to temp arrays L[] and R[] \n",
    "        while i < len(L) and j < len(R): #check each item in both subarrays\n",
    "            if L[i] < R[j]: \n",
    "                arr[k] = L[i] \n",
    "                i+=1\n",
    "            else: \n",
    "                arr[k] = R[j] \n",
    "                j+=1\n",
    "            k+=1\n",
    "          \n",
    "        # Checking all elements in Left sub array\n",
    "        while i < len(L): #While loop to check each item in array\n",
    "            arr[k] = L[i] \n",
    "            i+=1\n",
    "            k+=1\n",
    "         \n",
    "        # Checking all elements in Right sub array  \n",
    "        while j < len(R): #While loop to check each item in array\n",
    "            arr[k] = R[j] \n",
    "            j+=1 \n",
    "            k+=1\n",
    "  \n",
    "# Code to print the list \n",
    "def printList(arr): \n",
    "    for i in range(len(arr)):         \n",
    "        print(arr[i],end=\" \") \n",
    "    print() \n",
    "  \n",
    "# driver code to test the above code \n",
    "if __name__ == '__main__': \n",
    "    arr = [12, 11, 13, 5, 6, 7]  \n",
    "    print (\"Given array is\", end=\"\\n\")  \n",
    "    printList(arr) \n",
    "    Merge_Sort(arr) \n",
    "    print(\"Sorted array is: \", end=\"\\n\") \n",
    "    printList(arr) "
   ]
  },
  {
   "cell_type": "markdown",
   "metadata": {},
   "source": [
    "## INSERTION SORT"
   ]
  },
  {
   "cell_type": "code",
   "execution_count": 16,
   "metadata": {},
   "outputs": [
    {
     "name": "stdout",
     "output_type": "stream",
     "text": [
      "[1, 2, 3, 3, 5, 7, 9]\n",
      "0.0\n"
     ]
    }
   ],
   "source": [
    "import time #import time function \n",
    "start = time.time() #start time\n",
    "#credit https://www.pythoncentral.io/insertion-sort-implementation-guide/\n",
    "def insertion_Sort(alist):\n",
    "    for i in range(1,len(alist)): #for each element in thr list to be sorted\n",
    "        #element to be compared\n",
    "        current = alist[i] \n",
    "        #comparing the current element with the sorted portion and swapping\n",
    "        while i>0 and alist[i-1]>current: #compare each element with the previous one\n",
    "            alist[i] = alist[i-1]\n",
    "            i = i-1\n",
    "            alist[i] = current #swap replaced element with current one\n",
    "    return alist\n",
    "print(insertion_Sort([7,1,3,5,9,2,3]))\n",
    "end = time.time() #end time\n",
    "print(end - start) #outputs time to execute method"
   ]
  },
  {
   "cell_type": "code",
   "execution_count": 10,
   "metadata": {},
   "outputs": [],
   "source": [
    "num_runs = 10 # number of times to run the function\n",
    "results = [] #array to store results for each test\n"
   ]
  },
  {
   "cell_type": "code",
   "execution_count": 11,
   "metadata": {},
   "outputs": [
    {
     "ename": "NameError",
     "evalue": "name 'mergeSort' is not defined",
     "output_type": "error",
     "traceback": [
      "\u001b[1;31m---------------------------------------------------------------------------\u001b[0m",
      "\u001b[1;31mNameError\u001b[0m                                 Traceback (most recent call last)",
      "\u001b[1;32m<ipython-input-11-b2d3cfdd993b>\u001b[0m in \u001b[0;36m<module>\u001b[1;34m()\u001b[0m\n\u001b[0;32m      6\u001b[0m \u001b[1;33m\u001b[0m\u001b[0m\n\u001b[0;32m      7\u001b[0m     \u001b[1;31m#call the function that you want to benchmark\u001b[0m\u001b[1;33m\u001b[0m\u001b[1;33m\u001b[0m\u001b[0m\n\u001b[1;32m----> 8\u001b[1;33m     \u001b[0mmergeSort\u001b[0m\u001b[1;33m(\u001b[0m\u001b[0marr\u001b[0m\u001b[1;33m)\u001b[0m\u001b[1;33m\u001b[0m\u001b[0m\n\u001b[0m\u001b[0;32m      9\u001b[0m     \u001b[1;31m#log the end time in secs\u001b[0m\u001b[1;33m\u001b[0m\u001b[1;33m\u001b[0m\u001b[0m\n\u001b[0;32m     10\u001b[0m     \u001b[0mend_time\u001b[0m \u001b[1;33m=\u001b[0m \u001b[0mtime\u001b[0m\u001b[1;33m.\u001b[0m\u001b[0mtime\u001b[0m\u001b[1;33m(\u001b[0m\u001b[1;33m)\u001b[0m\u001b[1;33m\u001b[0m\u001b[0m\n",
      "\u001b[1;31mNameError\u001b[0m: name 'mergeSort' is not defined"
     ]
    }
   ],
   "source": [
    "#benchmark the function\n",
    "import time\n",
    "for r in range(num_runs):\n",
    "    #log the start time in secs\n",
    "    start_time = time.time()\n",
    "\n",
    "    #call the function that you want to benchmark\n",
    "    mergeSort(arr)\n",
    "    #log the end time in secs\n",
    "    end_time = time.time()\n",
    "    # calculate the time elapsed\n",
    "    time_elapsed = end_time - start_time\n",
    "\n",
    "    results.append(time_elapsed)\n",
    "print (mergeSort(random_array(10)))\n",
    "print(time_elapsed*1000)"
   ]
  },
  {
   "cell_type": "markdown",
   "metadata": {},
   "source": [
    "## Group the functions"
   ]
  },
  {
   "cell_type": "code",
   "execution_count": 12,
   "metadata": {},
   "outputs": [],
   "source": [
    "Functions = (Bubble_Sort, Bucket_Sort, Counting_Sort, Merge_Sort, Insertion_Sort)"
   ]
  },
  {
   "cell_type": "markdown",
   "metadata": {},
   "source": [
    "## Write a Main Method"
   ]
  },
  {
   "cell_type": "code",
   "execution_count": 13,
   "metadata": {},
   "outputs": [
    {
     "ename": "SyntaxError",
     "evalue": "invalid syntax (<ipython-input-13-14ccfb85c34e>, line 2)",
     "output_type": "error",
     "traceback": [
      "\u001b[1;36m  File \u001b[1;32m\"<ipython-input-13-14ccfb85c34e>\"\u001b[1;36m, line \u001b[1;32m2\u001b[0m\n\u001b[1;33m    def(main):\u001b[0m\n\u001b[1;37m       ^\u001b[0m\n\u001b[1;31mSyntaxError\u001b[0m\u001b[1;31m:\u001b[0m invalid syntax\n"
     ]
    }
   ],
   "source": [
    "#write main function to call all sorts\n",
    "def(main):\n",
    "    for r in len(range(n))\n",
    "        for s in range (Functions)\n",
    "print()"
   ]
  }
 ],
 "metadata": {
  "kernelspec": {
   "display_name": "Python 3",
   "language": "python",
   "name": "python3"
  },
  "language_info": {
   "codemirror_mode": {
    "name": "ipython",
    "version": 3
   },
   "file_extension": ".py",
   "mimetype": "text/x-python",
   "name": "python",
   "nbconvert_exporter": "python",
   "pygments_lexer": "ipython3",
   "version": "3.6.6"
  }
 },
 "nbformat": 4,
 "nbformat_minor": 2
}
